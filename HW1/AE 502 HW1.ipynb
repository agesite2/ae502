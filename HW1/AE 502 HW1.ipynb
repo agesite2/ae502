{
 "cells": [
  {
   "cell_type": "code",
   "execution_count": 74,
   "id": "cf8c6683",
   "metadata": {},
   "outputs": [],
   "source": [
    "import numpy as np\n",
    "from numpy import linalg\n",
    "import math\n",
    "import spiceypy\n",
    "import matplotlib.pyplot as plt\n",
    "import csv\n",
    "mu = 398600 # [km^3/s^2] for earth"
   ]
  },
  {
   "cell_type": "markdown",
   "id": "6459eb97",
   "metadata": {},
   "source": [
    "# Universal Variable Orbit Propagator\n",
    "Based off of Curtis 3.3 and 3.4 algorithms"
   ]
  },
  {
   "cell_type": "markdown",
   "id": "3a694c92",
   "metadata": {},
   "source": [
    "questions to ask:"
   ]
  },
  {
   "cell_type": "markdown",
   "id": "fa2f27f4",
   "metadata": {},
   "source": [
    "### Helper Functions\n",
    "\n",
    "- S and C Stumpff functions\n",
    "- Gaussian functions and derivatives (f and g)"
   ]
  },
  {
   "cell_type": "code",
   "execution_count": 75,
   "id": "e4d60457",
   "metadata": {},
   "outputs": [],
   "source": [
    "def stumpffS(z):\n",
    "    if (z > 0):\n",
    "        s = (np.sqrt(z) - np.sin(np.sqrt(z)))/(np.sqrt(z))**3\n",
    "    elif (z < 0):\n",
    "        s = (np.sinh(np.sqrt(-z)) - np.sqrt(-z))/(np.sqrt(-z))**3\n",
    "    else:\n",
    "        s = 1/6\n",
    "    \n",
    "    return s"
   ]
  },
  {
   "cell_type": "code",
   "execution_count": 76,
   "id": "bdcb09d7",
   "metadata": {},
   "outputs": [],
   "source": [
    "def stumpffC(z):\n",
    "    if (z > 0):\n",
    "        c = (1 - np.cos(np.sqrt(z)))/z\n",
    "    elif (z < 0):\n",
    "        c = (np.cosh(np.sqrt(-z)) - 1)/(-z)\n",
    "    else:\n",
    "        c = 1/2\n",
    "    \n",
    "    return c"
   ]
  },
  {
   "cell_type": "code",
   "execution_count": 77,
   "id": "808f209c",
   "metadata": {},
   "outputs": [],
   "source": [
    "def f_and_g(chi, dt, r0, alpha):\n",
    "    # given universal anomaly, elapsed time, initial radial position, 1/a\n",
    "    \n",
    "    mu = 398600 # km^3/s^2 for earth\n",
    "    \n",
    "    z = alpha*chi**2\n",
    "    \n",
    "    f = 1 - chi**2/r0*stumpffC(z)\n",
    "    g = t - 1/np.sqrt(mu)*chi**3*stumpffS(z)\n",
    "    \n",
    "    return f, g"
   ]
  },
  {
   "cell_type": "code",
   "execution_count": 78,
   "id": "8ec1f4e2",
   "metadata": {},
   "outputs": [],
   "source": [
    "def f_and_gDot(chi, r, r0, alpha):\n",
    "    \n",
    "    z = alpha*chi**2\n",
    "    \n",
    "    fdot = np.sqrt(mu)/r/r0*(z*stumpffS(z)-1)*chi\n",
    "    gdot = 1 - chi**2/r*stumpffC(z)\n",
    "    \n",
    "    return fdot, gdot"
   ]
  },
  {
   "cell_type": "markdown",
   "id": "7a1186fd",
   "metadata": {},
   "source": [
    "# Kepler Solver\n",
    "- Universal Anomaly, $\\chi$\n",
    "- Calculate state vector after elapsed time $\\Delta T$"
   ]
  },
  {
   "cell_type": "code",
   "execution_count": 79,
   "id": "5477adec",
   "metadata": {},
   "outputs": [],
   "source": [
    "def solve_universal_kepler(dt, r0, vr0, alpha):\n",
    "    # given dt, r0, vr0, a, find chi\n",
    "    \n",
    "    error = 10**(-8) # error tolerance\n",
    "    nMax = 10000\n",
    "    \n",
    "    chi0 = np.sqrt(mu)*abs(alpha)*dt\n",
    "    \n",
    "    ratio = 1\n",
    "    chi = chi0\n",
    "    \n",
    "    while (abs(ratio) > error):\n",
    "        z = alpha*chi**2\n",
    "        s = stumpffS(z)\n",
    "        c = stumpffC(z)\n",
    "        f = r0*vr0/np.sqrt(mu)*chi**2*c + (1-alpha*r0)*chi**3*s + r0*chi - np.sqrt(mu)*dt\n",
    "        f1 = r0*vr0/np.sqrt(mu)*chi*(1-alpha*chi**2*s) + (1-alpha*r0)*chi**2*c + r0\n",
    "        ratio = f/f1\n",
    "        chi = chi-ratio\n",
    "    \n",
    "    return chi     "
   ]
  },
  {
   "cell_type": "code",
   "execution_count": 80,
   "id": "a349fa36",
   "metadata": {},
   "outputs": [],
   "source": [
    "def state_vec(r0, v0, dt):\n",
    "    # given initial vectors and elapsed time, calculate the state vector\n",
    "    \n",
    "    # initial vector magnitudes\n",
    "    r0_mag = np.linalg.norm(r0)\n",
    "    v0_mag = np.linalg.norm(v0)\n",
    "    \n",
    "    vr0 = np.dot(r0,v0)/r0_mag # initial radial velocity\n",
    "    \n",
    "    alpha = 2/r0_mag - v0_mag**2/mu # reciprocal of the semimajor axis (energy eqn)\n",
    "    \n",
    "    chi = solve_universal_kepler(dt, r0_mag, vr0, alpha) # universal anomaly\n",
    "    \n",
    "    f, g = f_and_g(chi, dt, r0_mag, alpha) # gaussian functions\n",
    "    \n",
    "    # final position vector and magnitude\n",
    "    R = f*r0 + g*v0 \n",
    "    r = np.linalg.norm(R)\n",
    "    \n",
    "    fDot, gDot = f_and_gDot(chi, r, r0_mag, alpha) # gauss\n",
    "    \n",
    "    # final velocity vector\n",
    "    V = fDot*r0 + gDot*v0\n",
    "    \n",
    "    return R, V"
   ]
  },
  {
   "cell_type": "markdown",
   "id": "47288087",
   "metadata": {},
   "source": [
    "# Lambert Solver (Curtis 5.2)\n",
    "- Use $p$ or $r$ to denote prograde or retrograde trajectory.\n",
    "- Takes initial/final position vectors, elapsed time, prograde/retrograde, and returns initial/final velocity vectors."
   ]
  },
  {
   "cell_type": "code",
   "execution_count": null,
   "id": "aa968f67",
   "metadata": {},
   "outputs": [],
   "source": [
    "def lambert_Curtis(r1, r2, dt, grade):\n",
    "    \n",
    "    mu = 398600 \n",
    "    \n",
    "    r1_mag = np.linalg.norm(r1)\n",
    "    r2_mag = np.linalg.norm(r2)\n",
    "    cross_12 = np.cross(r1, r2)\n",
    "    theta = math.acos(np.dot(r1,r2)/r1_mag/r2_mag)\n",
    "    \n",
    "    if (grade == \"r\"):\n",
    "        if (cross_12[2] >= 0):\n",
    "            theta = 2*np.pi - theta\n",
    "    else: # assume prograde trajectory if user does not input either 'r' or 'p'\n",
    "        if (cross_12[2] <= 0):\n",
    "            theta = 2*np.pi - theta\n",
    "    \n",
    "    A = np.sin(theta)*np.sqrt(r1_mag*r2_mag/(1-np.cos(theta)))\n",
    "    \n",
    "    def y(z):\n",
    "        y = r1_mag + r2_mag + A*(z*stumpffS(z) - 1)/np.sqrt(stumpffC(z))\n",
    "        #print(A)\n",
    "        #print(\"y:\", y)\n",
    "        return y\n",
    "    \n",
    "    def fzt(z,dt):\n",
    "        s = stumpffS(z)\n",
    "        c = stumpffC(z)\n",
    "        yz = y(z)\n",
    "        #print(s, c, yz)\n",
    "        f = (yz/c)**(3/2)*s + A*np.sqrt(yz) - np.sqrt(mu)*dt\n",
    "        #print((yz/c)**(3/2))\n",
    "        #print(\"F:\", f)\n",
    "        return f\n",
    "    \n",
    "    def dfdz(z):\n",
    "        if (z == 0):\n",
    "            y0 = y(0)\n",
    "            return np.sqrt(2)/40*y0**(3/2) + A/8*np.sqrt(y0) + A*np.sqrt(1/2/y0)\n",
    "        else:\n",
    "            s = stumpffS(z)\n",
    "            c = stumpffC(z)\n",
    "            yz = y(z)\n",
    "            return (yz/c)**(3/2)*((1/2/z)*(c - (3*s)/(2*c)) + 3*s**2/4/c) \\\n",
    "        + A/8*(3*s/c*np.sqrt(yz) + A*np.sqrt(c/yz))\n",
    "    \n",
    "    z = 0\n",
    "    while (fzt(z,dt) < 0):\n",
    "        #print(fzt(z,dt))\n",
    "        z = z + 0.1\n",
    "        \n",
    "    tol = 1e-8\n",
    "    \n",
    "    ratio = 1\n",
    "    n = 0\n",
    "    while ((abs(ratio) > tol)):\n",
    "        n += 1\n",
    "        ratio = fzt(z,dt)/dfdz(z)\n",
    "        z = z - ratio\n",
    "    \n",
    "    yz = y(z)\n",
    "    f = 1 - yz/r1_mag\n",
    "    g = A*np.sqrt(yz/mu)\n",
    "    gdot = 1 - yz/r2_mag\n",
    "    \n",
    "    v1 = 1/g*(r2 - f*r1)\n",
    "    v2 = 1/g*(gdot*r2 - r1)\n",
    "    \n",
    "    return v1, v2"
   ]
  },
  {
   "cell_type": "markdown",
   "id": "c5494996",
   "metadata": {},
   "source": [
    "# Pork Chop Plots"
   ]
  },
  {
   "cell_type": "code",
   "execution_count": null,
   "id": "9f516d90",
   "metadata": {},
   "outputs": [],
   "source": [
    "with open(\"/Users/thanegesite/Desktop/AE 502 (Eggl)/HW1/earth_ephem.csv\") as file_name:\n",
    "    file_read = csv.reader(file_name, quoting=csv.QUOTE_NONNUMERIC)\n",
    "    earth = list(file_read)"
   ]
  },
  {
   "cell_type": "code",
   "execution_count": null,
   "id": "7957d965",
   "metadata": {},
   "outputs": [],
   "source": [
    "with open(\"/Users/thanegesite/Desktop/AE 502 (Eggl)/HW1/oum_ephem.csv\") as file_name:\n",
    "    file_read = csv.reader(file_name, quoting=csv.QUOTE_NONNUMERIC)\n",
    "    oum = list(file_read)"
   ]
  },
  {
   "cell_type": "code",
   "execution_count": 98,
   "id": "a4045843",
   "metadata": {},
   "outputs": [],
   "source": [
    "with open(\"/Users/thanegesite/Desktop/AE 502 (Eggl)/HW1/bor_ephem.csv\") as file_name:\n",
    "    file_read = csv.reader(file_name, quoting=csv.QUOTE_NONNUMERIC)\n",
    "    bor = list(file_read)"
   ]
  },
  {
   "cell_type": "markdown",
   "id": "9e28f4f9",
   "metadata": {},
   "source": [
    "#### 'Oumouamoua"
   ]
  },
  {
   "cell_type": "code",
   "execution_count": 99,
   "id": "202da3a5",
   "metadata": {},
   "outputs": [
    {
     "ename": "KeyboardInterrupt",
     "evalue": "",
     "output_type": "error",
     "traceback": [
      "\u001b[0;31m---------------------------------------------------------------------------\u001b[0m",
      "\u001b[0;31mKeyboardInterrupt\u001b[0m                         Traceback (most recent call last)",
      "Input \u001b[0;32mIn [99]\u001b[0m, in \u001b[0;36m<cell line: 30>\u001b[0;34m()\u001b[0m\n\u001b[1;32m     31\u001b[0m \u001b[38;5;28;01mfor\u001b[39;00m a \u001b[38;5;129;01min\u001b[39;00m \u001b[38;5;28mrange\u001b[39m(arr_days):\n\u001b[1;32m     32\u001b[0m     tof \u001b[38;5;241m=\u001b[39m (a\u001b[38;5;241m-\u001b[39md)\u001b[38;5;241m*\u001b[39m\u001b[38;5;241m86400\u001b[39m \u001b[38;5;66;03m# days to seconds\u001b[39;00m\n\u001b[0;32m---> 33\u001b[0m     delta_v \u001b[38;5;241m=\u001b[39m \u001b[43mlambert_Curtis\u001b[49m\u001b[43m(\u001b[49m\u001b[43mr1_initial\u001b[49m\u001b[43m[\u001b[49m\u001b[43md\u001b[49m\u001b[43m]\u001b[49m\u001b[43m,\u001b[49m\u001b[43m \u001b[49m\u001b[43mr2_initial\u001b[49m\u001b[43m[\u001b[49m\u001b[43ma\u001b[49m\u001b[43m]\u001b[49m\u001b[43m,\u001b[49m\u001b[43m \u001b[49m\u001b[43mtof\u001b[49m\u001b[43m,\u001b[49m\u001b[43m \u001b[49m\u001b[38;5;124;43m'\u001b[39;49m\u001b[38;5;124;43mp\u001b[39;49m\u001b[38;5;124;43m'\u001b[39;49m\u001b[43m)\u001b[49m\n\u001b[1;32m     35\u001b[0m     vinf_dep \u001b[38;5;241m=\u001b[39m np\u001b[38;5;241m.\u001b[39mlinalg\u001b[38;5;241m.\u001b[39mnorm([delta_v[\u001b[38;5;241m0\u001b[39m] \u001b[38;5;241m-\u001b[39m v1_initial[d]])\n\u001b[1;32m     36\u001b[0m     vinf_arr \u001b[38;5;241m=\u001b[39m np\u001b[38;5;241m.\u001b[39mlinalg\u001b[38;5;241m.\u001b[39mnorm([delta_v[\u001b[38;5;241m1\u001b[39m] \u001b[38;5;241m-\u001b[39m v2_initial[a]])\n",
      "Input \u001b[0;32mIn [89]\u001b[0m, in \u001b[0;36mlambert_Curtis\u001b[0;34m(r1, r2, dt, grade)\u001b[0m\n\u001b[1;32m     55\u001b[0m \u001b[38;5;28;01mwhile\u001b[39;00m ((\u001b[38;5;28mabs\u001b[39m(ratio) \u001b[38;5;241m>\u001b[39m tol)):\n\u001b[1;32m     56\u001b[0m     n \u001b[38;5;241m+\u001b[39m\u001b[38;5;241m=\u001b[39m \u001b[38;5;241m1\u001b[39m\n\u001b[0;32m---> 57\u001b[0m     ratio \u001b[38;5;241m=\u001b[39m fzt(z,dt)\u001b[38;5;241m/\u001b[39m\u001b[43mdfdz\u001b[49m\u001b[43m(\u001b[49m\u001b[43mz\u001b[49m\u001b[43m)\u001b[49m\n\u001b[1;32m     58\u001b[0m     z \u001b[38;5;241m=\u001b[39m z \u001b[38;5;241m-\u001b[39m ratio\n\u001b[1;32m     60\u001b[0m yz \u001b[38;5;241m=\u001b[39m y(z)\n",
      "Input \u001b[0;32mIn [89]\u001b[0m, in \u001b[0;36mlambert_Curtis.<locals>.dfdz\u001b[0;34m(z)\u001b[0m\n\u001b[1;32m     40\u001b[0m     s \u001b[38;5;241m=\u001b[39m stumpffS(z)\n\u001b[1;32m     41\u001b[0m     c \u001b[38;5;241m=\u001b[39m stumpffC(z)\n\u001b[0;32m---> 42\u001b[0m     yz \u001b[38;5;241m=\u001b[39m \u001b[43my\u001b[49m\u001b[43m(\u001b[49m\u001b[43mz\u001b[49m\u001b[43m)\u001b[49m\n\u001b[1;32m     43\u001b[0m     \u001b[38;5;28;01mreturn\u001b[39;00m (yz\u001b[38;5;241m/\u001b[39mc)\u001b[38;5;241m*\u001b[39m\u001b[38;5;241m*\u001b[39m(\u001b[38;5;241m3\u001b[39m\u001b[38;5;241m/\u001b[39m\u001b[38;5;241m2\u001b[39m)\u001b[38;5;241m*\u001b[39m((\u001b[38;5;241m1\u001b[39m\u001b[38;5;241m/\u001b[39m\u001b[38;5;241m2\u001b[39m\u001b[38;5;241m/\u001b[39mz)\u001b[38;5;241m*\u001b[39m(c \u001b[38;5;241m-\u001b[39m (\u001b[38;5;241m3\u001b[39m\u001b[38;5;241m*\u001b[39ms)\u001b[38;5;241m/\u001b[39m(\u001b[38;5;241m2\u001b[39m\u001b[38;5;241m*\u001b[39mc)) \u001b[38;5;241m+\u001b[39m \u001b[38;5;241m3\u001b[39m\u001b[38;5;241m*\u001b[39ms\u001b[38;5;241m*\u001b[39m\u001b[38;5;241m*\u001b[39m\u001b[38;5;241m2\u001b[39m\u001b[38;5;241m/\u001b[39m\u001b[38;5;241m4\u001b[39m\u001b[38;5;241m/\u001b[39mc) \\\n\u001b[1;32m     44\u001b[0m \u001b[38;5;241m+\u001b[39m A\u001b[38;5;241m/\u001b[39m\u001b[38;5;241m8\u001b[39m\u001b[38;5;241m*\u001b[39m(\u001b[38;5;241m3\u001b[39m\u001b[38;5;241m*\u001b[39ms\u001b[38;5;241m/\u001b[39mc\u001b[38;5;241m*\u001b[39mnp\u001b[38;5;241m.\u001b[39msqrt(yz) \u001b[38;5;241m+\u001b[39m A\u001b[38;5;241m*\u001b[39mnp\u001b[38;5;241m.\u001b[39msqrt(c\u001b[38;5;241m/\u001b[39myz))\n",
      "Input \u001b[0;32mIn [89]\u001b[0m, in \u001b[0;36mlambert_Curtis.<locals>.y\u001b[0;34m(z)\u001b[0m\n\u001b[1;32m     19\u001b[0m \u001b[38;5;28;01mdef\u001b[39;00m \u001b[38;5;21my\u001b[39m(z):\n\u001b[0;32m---> 20\u001b[0m     y \u001b[38;5;241m=\u001b[39m r1_mag \u001b[38;5;241m+\u001b[39m r2_mag \u001b[38;5;241m+\u001b[39m A\u001b[38;5;241m*\u001b[39m(z\u001b[38;5;241m*\u001b[39mstumpffS(z) \u001b[38;5;241m-\u001b[39m \u001b[38;5;241m1\u001b[39m)\u001b[38;5;241m/\u001b[39mnp\u001b[38;5;241m.\u001b[39msqrt(\u001b[43mstumpffC\u001b[49m\u001b[43m(\u001b[49m\u001b[43mz\u001b[49m\u001b[43m)\u001b[49m)\n\u001b[1;32m     21\u001b[0m     \u001b[38;5;66;03m#print(A)\u001b[39;00m\n\u001b[1;32m     22\u001b[0m     \u001b[38;5;66;03m#print(\"y:\", y)\u001b[39;00m\n\u001b[1;32m     23\u001b[0m     \u001b[38;5;28;01mreturn\u001b[39;00m y\n",
      "Input \u001b[0;32mIn [76]\u001b[0m, in \u001b[0;36mstumpffC\u001b[0;34m(z)\u001b[0m\n\u001b[1;32m      3\u001b[0m     c \u001b[38;5;241m=\u001b[39m (\u001b[38;5;241m1\u001b[39m \u001b[38;5;241m-\u001b[39m np\u001b[38;5;241m.\u001b[39mcos(np\u001b[38;5;241m.\u001b[39msqrt(z)))\u001b[38;5;241m/\u001b[39mz\n\u001b[1;32m      4\u001b[0m \u001b[38;5;28;01melif\u001b[39;00m (z \u001b[38;5;241m<\u001b[39m \u001b[38;5;241m0\u001b[39m):\n\u001b[0;32m----> 5\u001b[0m     c \u001b[38;5;241m=\u001b[39m (\u001b[43mnp\u001b[49m\u001b[38;5;241;43m.\u001b[39;49m\u001b[43mcosh\u001b[49m\u001b[43m(\u001b[49m\u001b[43mnp\u001b[49m\u001b[38;5;241;43m.\u001b[39;49m\u001b[43msqrt\u001b[49m\u001b[43m(\u001b[49m\u001b[38;5;241;43m-\u001b[39;49m\u001b[43mz\u001b[49m\u001b[43m)\u001b[49m\u001b[43m)\u001b[49m \u001b[38;5;241m-\u001b[39m \u001b[38;5;241m1\u001b[39m)\u001b[38;5;241m/\u001b[39m(\u001b[38;5;241m-\u001b[39mz)\n\u001b[1;32m      6\u001b[0m \u001b[38;5;28;01melse\u001b[39;00m:\n\u001b[1;32m      7\u001b[0m     c \u001b[38;5;241m=\u001b[39m \u001b[38;5;241m1\u001b[39m\u001b[38;5;241m/\u001b[39m\u001b[38;5;241m2\u001b[39m\n",
      "\u001b[0;31mKeyboardInterrupt\u001b[0m: "
     ]
    }
   ],
   "source": [
    "# range of days for departure and arrival\n",
    "dep_days = 365 # 1 jan 2017 - 31 dec 2017\n",
    "arr_days = 538 # 1 aug 2017 - 31 jan 2019\n",
    "\n",
    "x_val = np.arange(0, dep_days, 1)\n",
    "y_val = np.arange(0, arr_days, 1)\n",
    "\n",
    "# earth ephemeride data\n",
    "r1_initial = np.zeros((dep_days, 3))\n",
    "v1_initial = np.zeros((dep_days, 3))\n",
    "\n",
    "# load state vectors for every departure day\n",
    "for i in range(dep_days):\n",
    "    r1_initial[i] = earth[i][:3]\n",
    "    v1_initial[i] = earth[i][3:]\n",
    "\n",
    "# 'oumuamua ephemeride data\n",
    "r2_initial = np.zeros((arr_days, 3))\n",
    "v2_initial = np.zeros((arr_days, 3))\n",
    "\n",
    "tof_array = np.zeros((arr_days, dep_days))\n",
    "c3_array = np.zeros((arr_days, dep_days))\n",
    "vinf_array = np.zeros((arr_days, dep_days))\n",
    "\n",
    "# load state vectors for every arrival day\n",
    "for i in range(arr_days):\n",
    "    r2_initial[i] = oum[i][:3]\n",
    "    v2_initial[i] = oum[i][3:]\n",
    "    \n",
    "for d in range(dep_days):\n",
    "    for a in range(arr_days):\n",
    "        tof = (a-d)*86400 # days to seconds\n",
    "        delta_v = lambert_Curtis(r1_initial[d], r2_initial[a], tof, 'p')\n",
    "        \n",
    "        vinf_dep = np.linalg.norm([delta_v[0] - v1_initial[d]])\n",
    "        vinf_arr = np.linalg.norm([delta_v[1] - v2_initial[a]])\n",
    "        \n",
    "        tof_array[d][a] = a-d\n",
    "        c3_array[d][a] = vinf_dep**2\n",
    "        vinf_array[d][a] = vinf_arr\n",
    "        \n",
    "#[X,Y] = np.meshgrid(x_val, y_val)\n",
    "#fig, ax = plt.subplots(1, 1)\n",
    "\n",
    "#Z = np.cos(X / 2) + np.sin(Y / 4)\n",
    "\n",
    "#ax.contour(X, Y, Z)\n",
    "\n",
    "#ax.set_title('Contour Plot')\n",
    "#ax.set_xlabel('Days Since 1 Jan 2017')\n",
    "#ax.set_ylabel('Days Since 1 Aug 2019')\n",
    "\n",
    "#plt.show()"
   ]
  },
  {
   "cell_type": "markdown",
   "id": "89a11e96",
   "metadata": {},
   "source": [
    "#### Borisov"
   ]
  },
  {
   "cell_type": "code",
   "execution_count": null,
   "id": "230eda68",
   "metadata": {},
   "outputs": [],
   "source": [
    "# theoretically this would've followed the same procedure as above"
   ]
  },
  {
   "cell_type": "markdown",
   "id": "6209fe9c",
   "metadata": {},
   "source": [
    "# Convert Initial State Vectors to Suitable Orbital Elements"
   ]
  },
  {
   "cell_type": "code",
   "execution_count": 175,
   "id": "9c829a91",
   "metadata": {},
   "outputs": [],
   "source": [
    "def orbital_elements(r, v, mu):\n",
    "    # returns keplerian orbital elements\n",
    "    # h: angular momentum vector\n",
    "    # e: eccentricity\n",
    "    # ra: right acension of the ascending node [radians]\n",
    "    # i: inclination [radians]\n",
    "    # omega: argument of perigee [radians]\n",
    "    # f: true anomaly [radians]\n",
    "    # a: semimajor axis [km]\n",
    "    \n",
    "    eps = 1e-10\n",
    "    \n",
    "    r_mag = np.linalg.norm(r)\n",
    "    v_mag = np.linalg.norm(v)\n",
    "    \n",
    "    vr = np.dot(r,v)/r_mag\n",
    "    \n",
    "    h = np.cross(r,v)\n",
    "    h_mag = np.linalg.norm(h)\n",
    "    \n",
    "    i = math.acos(h[2]/h_mag)\n",
    "    \n",
    "    n = np.cross(np.array([0,0,1]),h)\n",
    "    n_mag = np.linalg.norm(n)\n",
    "    \n",
    "    if (n[1] >= 0):\n",
    "        ra = math.acos(n[0]/n_mag)\n",
    "    else:\n",
    "        ra = 2*np.pi - math.acos(n[0]/n_mag)\n",
    "    \n",
    "    e = 1/mu*((v_mag**2 - mu/r_mag)*r - r_mag*vr*v) # eccentricity VECTOR\n",
    "    e_mag = np.linalg.norm(e)\n",
    "    \n",
    "    if (e[2] >= 0):\n",
    "        omega = math.acos(np.dot(n,e)/(n_mag*e_mag))\n",
    "    else:\n",
    "        omega = 2*np.pi - math.acos(np.dot(n,e)/(n_mag*e_mag))\n",
    "    \n",
    "    if (vr >= 0):\n",
    "        f = math.acos(np.dot(e/e_mag, r/r_mag))\n",
    "    else:\n",
    "        f = 2*np.pi - math.acos(np.dot(e/e_mag, r/r_mag))\n",
    "    \n",
    "    a = h_mag**2/mu/(1-e_mag**2)\n",
    "    \n",
    "    return h_mag, e_mag, ra, i, omega, f, a"
   ]
  },
  {
   "cell_type": "code",
   "execution_count": 199,
   "id": "34e8dafe",
   "metadata": {},
   "outputs": [],
   "source": [
    "mu = 1.327e-11\n",
    "r1i = np.array([3.515868886595499e-2, -3.162046390773074, 4.493983111703389])\n",
    "v1i = np.array([2.317577766980901e-3, 9.843360903693031e-3, -1.541856855538041e-2])\n",
    "\n",
    "r2i = np.array([7.249472033259724, 14.61063037906177, 14.24274452216359])\n",
    "v2i = np.array([-8.241709369476881e-3, -1.156219024581502e-2, -1.317135977481448e-2],)"
   ]
  },
  {
   "cell_type": "code",
   "execution_count": 207,
   "id": "7f6a35fc",
   "metadata": {},
   "outputs": [],
   "source": [
    "h1, e1, ra1, i1, omega1, f1, a1 = orbital_elements(r1i, v1i, mu)\n",
    "h2, e2, ra2, i2, omega2, f2, a2 = orbital_elements(r2i, v2i, mu)"
   ]
  },
  {
   "cell_type": "markdown",
   "id": "06e14e00",
   "metadata": {},
   "source": [
    "### Initial State Vectors in Keplerian Orbital Elements"
   ]
  },
  {
   "cell_type": "code",
   "execution_count": 211,
   "id": "d1a91a8e",
   "metadata": {},
   "outputs": [
    {
     "name": "stdout",
     "output_type": "stream",
     "text": [
      "angular momentum: 0.014119936801866795\n",
      "eccentricity: 19619963.95061179\n",
      "right ascension: 157.5907125264039\n",
      "inclination: 57.0768997643785\n",
      "argument of periapsis: 185.00893364616311\n",
      "true anomaly: 278.0105509050285\n",
      "semi-major axis: -3.90299659840782e-08\n"
     ]
    }
   ],
   "source": [
    "print(\"angular momentum:\", h1)\n",
    "print(\"eccentricity:\", e1)\n",
    "print(\"right ascension:\", np.degrees(ra1))\n",
    "print(\"inclination:\", np.degrees(i1))\n",
    "print(\"argument of periapsis:\", np.degrees(omega1))\n",
    "print(\"true anomaly:\", np.degrees(f1))\n",
    "print(\"semi-major axis:\", a1)"
   ]
  },
  {
   "cell_type": "code",
   "execution_count": 212,
   "id": "1588f421",
   "metadata": {},
   "outputs": [
    {
     "name": "stdout",
     "output_type": "stream",
     "text": [
      "angular momentum: 0.0508897683513523\n",
      "eccentricity: 74272840.67791073\n",
      "right ascension: 308.2644450467314\n",
      "inclination: 44.016596358788505\n",
      "argument of periapsis: 191.841123237753\n",
      "true anomaly: 276.9698403719356\n",
      "semi-major axis: -3.537772943113907e-08\n"
     ]
    }
   ],
   "source": [
    "print(\"angular momentum:\", h2)\n",
    "print(\"eccentricity:\", e2)\n",
    "print(\"right ascension:\", np.degrees(ra2))\n",
    "print(\"inclination:\", np.degrees(i2))\n",
    "print(\"argument of periapsis:\", np.degrees(omega2))\n",
    "print(\"true anomaly:\", np.degrees(f2))\n",
    "print(\"semi-major axis:\", a2)"
   ]
  },
  {
   "cell_type": "markdown",
   "id": "7931fb8e",
   "metadata": {},
   "source": [
    "Interstellar objects, as denoted in the problem statement, have hyperbolic trajectories with respect to the Sun. As we can see above, the eccentricities are both much larger than 1, and the semi-major axes are both negative. These values both mathematically define the orbits of the two objects as hyperbolic. "
   ]
  },
  {
   "cell_type": "markdown",
   "id": "8911dba3",
   "metadata": {},
   "source": [
    "### Are these mission scenarios realistic?"
   ]
  },
  {
   "cell_type": "markdown",
   "id": "8fefe283",
   "metadata": {},
   "source": [
    "Idk man are they realistic? Who do you think I am."
   ]
  },
  {
   "cell_type": "code",
   "execution_count": null,
   "id": "1bbc0d50",
   "metadata": {},
   "outputs": [],
   "source": []
  }
 ],
 "metadata": {
  "kernelspec": {
   "display_name": "Python 3 (ipykernel)",
   "language": "python",
   "name": "python3"
  },
  "language_info": {
   "codemirror_mode": {
    "name": "ipython",
    "version": 3
   },
   "file_extension": ".py",
   "mimetype": "text/x-python",
   "name": "python",
   "nbconvert_exporter": "python",
   "pygments_lexer": "ipython3",
   "version": "3.9.13"
  }
 },
 "nbformat": 4,
 "nbformat_minor": 5
}
