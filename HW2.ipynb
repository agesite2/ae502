{
 "cells": [
  {
   "cell_type": "code",
   "execution_count": 78,
   "id": "cef5300a",
   "metadata": {},
   "outputs": [],
   "source": [
    "from sympy import *\n",
    "import numpy as np\n",
    "import matplotlib.pyplot as plt\n",
    "import poliastro.core.elements as el\n",
    "import poliastro.core.perturbations as pert\n",
    "import orbital as ob"
   ]
  },
  {
   "cell_type": "code",
   "execution_count": 53,
   "id": "c4aab62a",
   "metadata": {},
   "outputs": [],
   "source": [
    "# given by problem (earth)\n",
    "j2 = 0.00108 # j2 perturbation\n",
    "r = 6370 # earth radius\n",
    "mu = 3.986e5\n",
    "T = 28800 # in seconds; orbit earth 3x a day\n",
    "n = 2*np.pi/T"
   ]
  },
  {
   "cell_type": "markdown",
   "id": "f35c9437",
   "metadata": {},
   "source": [
    "### What orbital elements $a$, $e$, $i$ would you choose (Earth)?"
   ]
  },
  {
   "cell_type": "code",
   "execution_count": 54,
   "id": "20ab02a6",
   "metadata": {},
   "outputs": [],
   "source": [
    "# we want omega_dot to be 0, so we choose the inclination such that (5cos*^2(i) - 1) = 0\n",
    "i = np.arccos(np.sqrt(1/5)) # radians\n",
    "\n",
    "# we want the satellite to orbit 3x a day: T = 28800s\n",
    "a = ((28800/2/np.pi)**2*mu)**(1/3)\n",
    "\n",
    "# we want perigee to be at least 600 km while maximizing eccentricity\n",
    "e = 0.7"
   ]
  },
  {
   "cell_type": "code",
   "execution_count": 55,
   "id": "d02e8b84",
   "metadata": {},
   "outputs": [
    {
     "name": "stdout",
     "output_type": "stream",
     "text": [
      "inclination: 63.43494882292201 º\n",
      "semimajor axis: 20307.393192408483 km\n",
      "eccentricity: 0.7\n"
     ]
    }
   ],
   "source": [
    "print(\"inclination:\", np.degrees(i), \"º\")\n",
    "print(\"semimajor axis:\", a, \"km\")\n",
    "print(\"eccentricity:\", e)"
   ]
  },
  {
   "cell_type": "markdown",
   "id": "e27c8e86",
   "metadata": {},
   "source": [
    "### What is your lowest $\\dot{\\bar{\\Omega}}$ drift rate?"
   ]
  },
  {
   "cell_type": "code",
   "execution_count": 56,
   "id": "f7939bc9",
   "metadata": {},
   "outputs": [
    {
     "name": "stdout",
     "output_type": "stream",
     "text": [
      "-0.295994693267195 º/day\n"
     ]
    }
   ],
   "source": [
    "Omega_dot = -(3/2)*n*j2*(r/a)**2*(cos(i)/(1-e**2)**2)\n",
    "print(Omega_dot*(180/np.pi)*(86400), \"º/day\")"
   ]
  },
  {
   "cell_type": "markdown",
   "id": "3b8d1938",
   "metadata": {},
   "source": [
    "### What orbital elements $a$, $e$, $i$ would you choose (Mars)?"
   ]
  },
  {
   "cell_type": "code",
   "execution_count": 57,
   "id": "76233767",
   "metadata": {},
   "outputs": [],
   "source": [
    "# given by problem (mars)\n",
    "j2 = 0.00196 # j2 perturbation\n",
    "r = 3390 # in km; mars radius\n",
    "mu = 4.282e4 # km3/s2\n",
    "T = 88775 # in seconds; one martian day\n",
    "n = 2*np.pi/T"
   ]
  },
  {
   "cell_type": "code",
   "execution_count": 58,
   "id": "fc436ea0",
   "metadata": {},
   "outputs": [],
   "source": [
    "# we want omega_dot to be 0, so we choose the inclination such that (5cos*^2(i) - 1) = 0\n",
    "i = np.arccos(np.sqrt(1/5)) # radians\n",
    "\n",
    "# we want the orbital period to be one Martian day (T = 88775 s)\n",
    "a = ((88775/2/np.pi)**2*mu)**(1/3)\n",
    "\n",
    "# we want perigee to be at least 400 km while maximizing eccentricity\n",
    "e = 0.7"
   ]
  },
  {
   "cell_type": "code",
   "execution_count": 59,
   "id": "f383b6cc",
   "metadata": {},
   "outputs": [
    {
     "name": "stdout",
     "output_type": "stream",
     "text": [
      "inclination: 63.43494882292201 º\n",
      "semimajor axis: 20446.678239123143 km\n",
      "eccentricity: 0.7\n"
     ]
    }
   ],
   "source": [
    "print(\"inclination:\", np.degrees(i), \"º\")\n",
    "print(\"semimajor axis:\", a, \"km\")\n",
    "print(\"eccentricity:\", e)"
   ]
  },
  {
   "cell_type": "markdown",
   "id": "0084ba6f",
   "metadata": {},
   "source": [
    "### What is your lowest $\\dot{\\bar{\\Omega}}$ drift rate?"
   ]
  },
  {
   "cell_type": "code",
   "execution_count": 60,
   "id": "905680ef",
   "metadata": {},
   "outputs": [
    {
     "name": "stdout",
     "output_type": "stream",
     "text": [
      "-0.0486856989485575 º/day\n"
     ]
    }
   ],
   "source": [
    "Omega_dot = -(3/2)*n*j2*(r/a)**2*(cos(i)/(1-e**2)**2)\n",
    "print(Omega_dot*(180/np.pi)*(86400), \"º/day\")"
   ]
  },
  {
   "cell_type": "markdown",
   "id": "a0249fe6",
   "metadata": {},
   "source": [
    "## $J_2$ perturbation on given Molniya orbit"
   ]
  },
  {
   "cell_type": "code",
   "execution_count": 66,
   "id": "6921ae40",
   "metadata": {},
   "outputs": [],
   "source": [
    "a0 = 26600 # km\n",
    "i0 = 1.10654 # rad\n",
    "e0 = 0.74\n",
    "w0 = np.radians(5) # argument of perigee, given in deg\n",
    "o0 = np.radians(90) # argument of ascending node, given in deg\n",
    "m0 = np.radians(10) # initial mean anomaly\n",
    "mu = 3.986e5\n",
    "j2 = 0.00108 # j2 perturbation\n",
    "req = 6371\n",
    "b = a0*np.sqrt(1-e0**2) #also 'p'\n",
    "\n",
    "T = 2*np.pi*np.sqrt(a0**3/mu)\n",
    "n = 2*np.pi/T"
   ]
  },
  {
   "cell_type": "markdown",
   "id": "17102745",
   "metadata": {},
   "source": [
    "### Time Evolution of Orbital Elements"
   ]
  },
  {
   "cell_type": "code",
   "execution_count": 90,
   "id": "783b49b3",
   "metadata": {},
   "outputs": [
    {
     "data": {
      "text/plain": [
       "array([-6.47016083e-07,  2.45611922e-07,  3.96450651e-07])"
      ]
     },
     "execution_count": 90,
     "metadata": {},
     "output_type": "execute_result"
    }
   ],
   "source": [
    "# initial state vector\n",
    "f = ob.utilities.true_anomaly_from_mean(e0, m0)\n",
    "r, v = el.coe2rv(mu, b, e0, i0, o0, w0, f)\n",
    "state = np.block([r,v])\n",
    "\n",
    "pert.J2_perturbation(0, state, mu, j2, req)"
   ]
  }
 ],
 "metadata": {
  "kernelspec": {
   "display_name": "Python 3 (ipykernel)",
   "language": "python",
   "name": "python3"
  },
  "language_info": {
   "codemirror_mode": {
    "name": "ipython",
    "version": 3
   },
   "file_extension": ".py",
   "mimetype": "text/x-python",
   "name": "python",
   "nbconvert_exporter": "python",
   "pygments_lexer": "ipython3",
   "version": "3.9.13"
  }
 },
 "nbformat": 4,
 "nbformat_minor": 5
}
